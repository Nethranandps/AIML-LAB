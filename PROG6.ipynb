{
 "cells": [
  {
   "cell_type": "markdown",
   "id": "f31159b5",
   "metadata": {},
   "source": [
    "Demonstrate Q learning algorithm with suitable assumption for a problem statement."
   ]
  },
  {
   "cell_type": "code",
   "execution_count": 1,
   "id": "c665512a",
   "metadata": {},
   "outputs": [],
   "source": [
    "# Problem Description:\n",
    "# We'll consider a 4x4 grid similar to the FrozenLake.\n",
    "# The agent will start at position (0, 0) and the goal is at (3, 3).\n",
    "# There will be holes at positions (1, 1), (1, 3), and (2, 2).\n",
    "# The agent can move in four directions: up, down, left, right.\n",
    "# If the agent moves into a hole or outside the grid, the episode ends with a reward of -1.\n",
    "# Reaching the goal gives a reward of +1.\n",
    "# Any other move gives a reward of 0.\n"
   ]
  },
  {
   "cell_type": "code",
   "execution_count": 2,
   "id": "56e3afcd",
   "metadata": {},
   "outputs": [],
   "source": [
    "import numpy as np\n"
   ]
  },
  {
   "cell_type": "code",
   "execution_count": 3,
   "id": "7fc33646",
   "metadata": {},
   "outputs": [],
   "source": [
    "# Define the environment\n",
    "grid_size = 4\n",
    "holes = [(1, 1), (1, 3), (2, 2)]\n",
    "start = (0, 0)\n",
    "goal = (3, 3)\n",
    "actions = [\"up\", \"down\", \"left\", \"right\"]\n",
    "action_indices = {a: i for i, a in enumerate(actions)}"
   ]
  },
  {
   "cell_type": "code",
   "execution_count": 4,
   "id": "d898f00b",
   "metadata": {},
   "outputs": [],
   "source": [
    "# Initialize the Q-table\n",
    "q_table = np.zeros((grid_size, grid_size, len(actions)))\n",
    "\n",
    "\n",
    "# Hyperparameters\n",
    "alpha = 0.1\n",
    "gamma = 0.9\n",
    "epsilon = 0.2\n"
   ]
  },
  {
   "cell_type": "code",
   "execution_count": 5,
   "id": "3136b6d6",
   "metadata": {},
   "outputs": [],
   "source": [
    "def is_valid_state(state):\n",
    " x, y = state\n",
    " return x >= 0 and x < grid_size and y >= 0 and y < grid_size"
   ]
  },
  {
   "cell_type": "code",
   "execution_count": 7,
   "id": "3c4aebb5",
   "metadata": {},
   "outputs": [],
   "source": [
    "def get_next_state(current_state, action):\n",
    "    x, y = current_state\n",
    "    if action == \"up\":\n",
    "        x -= 1\n",
    "    elif action == \"down\":\n",
    "        x += 1\n",
    "    elif action == \"left\":\n",
    "        y -= 1\n",
    "    elif action == \"right\":\n",
    "        y += 1\n",
    "    return (x, y) if is_valid_state((x, y)) else current_state\n"
   ]
  },
  {
   "cell_type": "code",
   "execution_count": 8,
   "id": "32e57bb3",
   "metadata": {},
   "outputs": [],
   "source": [
    "def get_reward(state):\n",
    "    if state in holes:\n",
    "        return -1\n",
    "    if state == goal:\n",
    "        return 1\n",
    "    return 0\n"
   ]
  },
  {
   "cell_type": "code",
   "execution_count": 9,
   "id": "f2262256",
   "metadata": {},
   "outputs": [],
   "source": [
    "def choose_action(state, epsilon):\n",
    "    if np.random.uniform(0, 1) < epsilon:\n",
    "        return np.random.choice(actions)\n",
    "    return actions[np.argmax(q_table[state[0], state[1], :])]"
   ]
  },
  {
   "cell_type": "code",
   "execution_count": 12,
   "id": "434d0dd0",
   "metadata": {},
   "outputs": [],
   "source": [
    "# Q-learning\n",
    "num_episodes = 5000\n",
    "for _ in range(num_episodes):\n",
    "    state = start\n",
    "    done = False\n",
    " \n",
    "    while not done:\n",
    "        action = choose_action(state, epsilon)\n",
    "        next_state = get_next_state(state, action)\n",
    "        reward = get_reward(next_state)\n",
    " \n",
    "        if next_state in holes or next_state == goal:\n",
    "          done=True\n",
    "        q_table[state[0], state[1], action_indices[action]] = q_table[state[0], state[1], action_indices[action]]+reward + gamma * np.max(q_table[next_state[0], next_state[1], :]) - q_table[state[0], state[1],action_indices[action]]\n",
    " \n",
    "        state = next_state"
   ]
  },
  {
   "cell_type": "code",
   "execution_count": null,
   "id": "491eb395",
   "metadata": {},
   "outputs": [],
   "source": [
    "# Test the Q-table\n",
    "state = start\n",
    "path = [state]\n",
    "while state != goal:\n",
    "    action = choose_action(state, -1) # Always choose the best action\n",
    "    state = get_next_state(state, action)\n",
    "    path.append(state)\n",
    "    \n",
    "print(\"Path from start to goal:\", path)"
   ]
  },
  {
   "cell_type": "code",
   "execution_count": null,
   "id": "c2b879e1",
   "metadata": {},
   "outputs": [],
   "source": []
  }
 ],
 "metadata": {
  "kernelspec": {
   "display_name": "Python 3 (ipykernel)",
   "language": "python",
   "name": "python3"
  },
  "language_info": {
   "codemirror_mode": {
    "name": "ipython",
    "version": 3
   },
   "file_extension": ".py",
   "mimetype": "text/x-python",
   "name": "python",
   "nbconvert_exporter": "python",
   "pygments_lexer": "ipython3",
   "version": "3.9.12"
  }
 },
 "nbformat": 4,
 "nbformat_minor": 5
}
